{
 "cells": [
  {
   "cell_type": "code",
   "execution_count": 43,
   "id": "fd402342-abb3-42f8-8aa1-75f7fcdb9771",
   "metadata": {},
   "outputs": [],
   "source": [
    "from sympy.tensor.tensor import TensorIndexType\n",
    "from sympy.tensor.tensor import TensorIndex\n",
    "from sympy.tensor.tensor import TensorHead\n",
    "from sympy.tensor.tensor import tensor_indices\n",
    "from sympy.tensor.toperators import PartialDerivative\n",
    "from sympy import diag, sin, cos, log\n",
    "from sympy import Function, symbols\n",
    "from sympy.abc import x, y, z, t, theta, phi, r, g, u, v"
   ]
  },
  {
   "cell_type": "code",
   "execution_count": 44,
   "id": "8a302563-a48d-4bb0-8ea8-f266debe79ec",
   "metadata": {},
   "outputs": [],
   "source": [
    "SpaceTime = TensorIndexType('SpaceTime', dummy_name='g', dim=4, metric_name='g')\n",
    "g = SpaceTime.metric"
   ]
  },
  {
   "cell_type": "code",
   "execution_count": 45,
   "id": "c12d49f8-f49f-4da6-a484-c7ab259c27b5",
   "metadata": {},
   "outputs": [],
   "source": [
    "mu, nu, rho = tensor_indices('mu nu rho', SpaceTime)\n",
    "alpha, beta, gamma, delta, epsilon = tensor_indices('alpha beta gamma delta epsilon', SpaceTime)"
   ]
  },
  {
   "cell_type": "code",
   "execution_count": 46,
   "id": "b857fe97-7b3c-4251-a457-1eea14ecbce4",
   "metadata": {},
   "outputs": [],
   "source": [
    "comma = TensorHead('comma', [SpaceTime])"
   ]
  },
  {
   "cell_type": "code",
   "execution_count": 47,
   "id": "e0a2d2da-753e-46af-9963-6ba499789d27",
   "metadata": {},
   "outputs": [],
   "source": [
    "expr = 1/2*g(gamma, epsilon)*(\n",
    "    PartialDerivative(g(-alpha, -epsilon), comma(beta))\n",
    "    + PartialDerivative(g(-beta, -epsilon), comma(alpha))\n",
    "    - PartialDerivative(g(-alpha, -beta), comma(epsilon))\n",
    ")"
   ]
  },
  {
   "cell_type": "code",
   "execution_count": 48,
   "id": "e6066838-bb59-48ed-9c33-9dc5fca81f56",
   "metadata": {},
   "outputs": [
    {
     "data": {
      "text/plain": [
       "([gamma, -alpha, -beta], [gamma, g_0, -alpha, -g_0, -beta])"
      ]
     },
     "execution_count": 48,
     "metadata": {},
     "output_type": "execute_result"
    }
   ],
   "source": [
    "expr.get_free_indices(), expr.get_indices()"
   ]
  },
  {
   "cell_type": "code",
   "execution_count": 57,
   "id": "3a7e2bee-8a4f-458c-9979-ccc3317327be",
   "metadata": {},
   "outputs": [
    {
     "data": {
      "text/latex": [
       "$\\displaystyle - 0.5 \\sin{\\left(2 \\theta \\right)}$"
      ],
      "text/plain": [
       "-0.5*sin(2*theta)"
      ]
     },
     "execution_count": 57,
     "metadata": {},
     "output_type": "execute_result"
    }
   ],
   "source": [
    "M = symbols('M',positive=True)\n",
    "_g = diag( -(1 - 2*M/r), (1-2*M/r)**-1, r**2, r**2*(sin(theta))**2 )\n",
    "expr.replace_with_arrays(\n",
    "    {g(-mu, -nu): _g, \n",
    "     SpaceTime: _g,\n",
    "     comma(mu): [t, r, theta, phi]\n",
    "    },\n",
    ")[2][3][3].simplify()"
   ]
  },
  {
   "cell_type": "code",
   "execution_count": null,
   "id": "86cd7047-2cc1-49c5-988c-36c743a11d7e",
   "metadata": {},
   "outputs": [],
   "source": []
  }
 ],
 "metadata": {
  "kernelspec": {
   "display_name": "Python 3 (ipykernel)",
   "language": "python",
   "name": "python3"
  },
  "language_info": {
   "codemirror_mode": {
    "name": "ipython",
    "version": 3
   },
   "file_extension": ".py",
   "mimetype": "text/x-python",
   "name": "python",
   "nbconvert_exporter": "python",
   "pygments_lexer": "ipython3",
   "version": "3.10.1"
  }
 },
 "nbformat": 4,
 "nbformat_minor": 5
}
